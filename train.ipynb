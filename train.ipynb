{
  "nbformat": 4,
  "nbformat_minor": 0,
  "metadata": {
    "colab": {
      "provenance": []
    },
    "kernelspec": {
      "name": "python3",
      "display_name": "Python 3"
    },
    "language_info": {
      "name": "python"
    },
    "accelerator": "GPU",
    "gpuClass": "standard"
  },
  "cells": [
    {
      "cell_type": "markdown",
      "source": [
        "## Thermal Person Detection"
      ],
      "metadata": {
        "id": "jgkQxmsWf0Kh"
      }
    },
    {
      "cell_type": "code",
      "source": [
        "!pip install PyYAML==5.4.1"
      ],
      "metadata": {
        "id": "rbXJ28PWRjYX",
        "colab": {
          "base_uri": "https://localhost:8080/"
        },
        "outputId": "7fbf934c-e622-459f-be9d-6c194f583980"
      },
      "execution_count": 1,
      "outputs": [
        {
          "output_type": "stream",
          "name": "stdout",
          "text": [
            "Looking in indexes: https://pypi.org/simple, https://us-python.pkg.dev/colab-wheels/public/simple/\n",
            "Collecting PyYAML==5.4.1\n",
            "  Downloading PyYAML-5.4.1-cp37-cp37m-manylinux1_x86_64.whl (636 kB)\n",
            "\u001b[K     |████████████████████████████████| 636 kB 20.8 MB/s \n",
            "\u001b[?25hInstalling collected packages: PyYAML\n",
            "  Attempting uninstall: PyYAML\n",
            "    Found existing installation: PyYAML 6.0\n",
            "    Uninstalling PyYAML-6.0:\n",
            "      Successfully uninstalled PyYAML-6.0\n",
            "Successfully installed PyYAML-5.4.1\n"
          ]
        }
      ]
    },
    {
      "cell_type": "code",
      "execution_count": 2,
      "metadata": {
        "colab": {
          "base_uri": "https://localhost:8080/"
        },
        "id": "yHOnqsrZQ2ir",
        "outputId": "b9252fc1-0575-4f45-d13c-f347226d5b33"
      },
      "outputs": [
        {
          "output_type": "stream",
          "name": "stdout",
          "text": [
            "Cloning into 'yolov7'...\n",
            "remote: Enumerating objects: 998, done.\u001b[K\n",
            "remote: Total 998 (delta 0), reused 0 (delta 0), pack-reused 998\u001b[K\n",
            "Receiving objects: 100% (998/998), 69.77 MiB | 15.15 MiB/s, done.\n",
            "Resolving deltas: 100% (465/465), done.\n"
          ]
        }
      ],
      "source": [
        "!git clone https://github.com/WongKinYiu/yolov7"
      ]
    },
    {
      "cell_type": "code",
      "source": [
        "%cd yolov7"
      ],
      "metadata": {
        "colab": {
          "base_uri": "https://localhost:8080/"
        },
        "id": "JARLSL66RBqH",
        "outputId": "b9062ca8-a728-41ce-9c92-908f9a7a768f"
      },
      "execution_count": 3,
      "outputs": [
        {
          "output_type": "stream",
          "name": "stdout",
          "text": [
            "/content/yolov7\n"
          ]
        }
      ]
    },
    {
      "cell_type": "code",
      "source": [
        "# Download dataset from roboflow (https://universe.roboflow.com/smart-yjdj0/thermal_3/dataset/7)"
      ],
      "metadata": {
        "id": "A-SPvtvSQ4Ef"
      },
      "execution_count": 5,
      "outputs": []
    },
    {
      "cell_type": "code",
      "source": [
        "!curl -L \"https://universe.roboflow.com/ds/ePACwRUVMz?key=JgDzSwLOcV\" > roboflow.zip; unzip roboflow.zip; rm roboflow.zip"
      ],
      "metadata": {
        "id": "q-5Kka8h0fYc"
      },
      "execution_count": null,
      "outputs": []
    },
    {
      "cell_type": "code",
      "source": [
        "%%writefile data.yaml\n",
        "\n",
        "train: /content/yolov7/train/images/\n",
        "val: /content/yolov7/valid/images/\n",
        "\n",
        "nc: 1\n",
        "names: ['person']"
      ],
      "metadata": {
        "colab": {
          "base_uri": "https://localhost:8080/"
        },
        "id": "hpg7oNWkSKEw",
        "outputId": "b2d3a4dd-3bb4-4d00-b15b-b5b14fa873fd"
      },
      "execution_count": 7,
      "outputs": [
        {
          "output_type": "stream",
          "name": "stdout",
          "text": [
            "Overwriting data.yaml\n"
          ]
        }
      ]
    },
    {
      "cell_type": "code",
      "source": [
        "%%writefile  data/hyp.scratch.p5.yaml\n",
        "\n",
        "lr0: 0.01  # initial learning rate (SGD=1E-2, Adam=1E-3)\n",
        "lrf: 0.1  # final OneCycleLR learning rate (lr0 * lrf)\n",
        "momentum: 0.937  # SGD momentum/Adam beta1\n",
        "weight_decay: 0.0005  # optimizer weight decay 5e-4\n",
        "warmup_epochs: 3.0  # warmup epochs (fractions ok)\n",
        "warmup_momentum: 0.8  # warmup initial momentum\n",
        "warmup_bias_lr: 0.1  # warmup initial bias lr\n",
        "box: 0.05  # box loss gain\n",
        "cls: 0.3  # cls loss gain\n",
        "cls_pw: 1.0  # cls BCELoss positive_weight\n",
        "obj: 0.7  # obj loss gain (scale with pixels)\n",
        "obj_pw: 1.0  # obj BCELoss positive_weight\n",
        "iou_t: 0.20  # IoU training threshold\n",
        "anchor_t: 4.0  # anchor-multiple threshold\n",
        "# anchors: 3  # anchors per output layer (0 to ignore)\n",
        "fl_gamma: 0.0  # focal loss gamma (efficientDet default gamma=1.5)\n",
        "hsv_h: 0.015  # image HSV-Hue augmentation (fraction)\n",
        "hsv_s: 0.7  # image HSV-Saturation augmentation (fraction)\n",
        "hsv_v: 0.4  # image HSV-Value augmentation (fraction)\n",
        "degrees: 0.0  # image rotation (+/- deg)\n",
        "translate: 0.2  # image translation (+/- fraction)\n",
        "scale: 0.35  # image scale (+/- gain)\n",
        "shear: 0.0  # image shear (+/- deg)\n",
        "perspective: 0.0  # image perspective (+/- fraction), range 0-0.001\n",
        "flipud: 0.3  # image flip up-down (probability)\n",
        "fliplr: 0.3  # image flip left-right (probability)\n",
        "mosaic: 1.0  # image mosaic (probability)\n",
        "mixup: 0.15  # image mixup (probability)\n",
        "copy_paste: 0.0  # image copy paste (probability)\n",
        "paste_in: 0.15  # image copy paste (probability), use 0 for faster training\n",
        "loss_ota: 1 # use ComputeLossOTA, use 0 for faster training"
      ],
      "metadata": {
        "colab": {
          "base_uri": "https://localhost:8080/"
        },
        "id": "cXPiqvwASkfG",
        "outputId": "2ef6721b-e675-4ae4-b892-f6125306ea16"
      },
      "execution_count": 15,
      "outputs": [
        {
          "output_type": "stream",
          "name": "stdout",
          "text": [
            "Overwriting data/hyp.scratch.p5.yaml\n"
          ]
        }
      ]
    },
    {
      "cell_type": "code",
      "source": [
        "# Download weights from https://github.com/WongKinYiu/yolov7"
      ],
      "metadata": {
        "id": "_hFrbTBVyLAq"
      },
      "execution_count": 9,
      "outputs": []
    },
    {
      "cell_type": "code",
      "source": [
        "!curl -L \"https://github.com/WongKinYiu/yolov7/releases/download/v0.1/yolov7x_training.pt\" > yolov7x_training.pt;"
      ],
      "metadata": {
        "colab": {
          "base_uri": "https://localhost:8080/"
        },
        "id": "MuD_S2pxIPzM",
        "outputId": "3d1fb87e-6bee-49bb-eb66-daaef23a8797"
      },
      "execution_count": 10,
      "outputs": [
        {
          "output_type": "stream",
          "name": "stdout",
          "text": [
            "  % Total    % Received % Xferd  Average Speed   Time    Time     Time  Current\n",
            "                                 Dload  Upload   Total   Spent    Left  Speed\n",
            "  0     0    0     0    0     0      0      0 --:--:-- --:--:-- --:--:--     0\n",
            "100  136M  100  136M    0     0  9374k      0  0:00:14  0:00:14 --:--:-- 8953k\n"
          ]
        }
      ]
    },
    {
      "cell_type": "code",
      "source": [
        "!nvidia-smi"
      ],
      "metadata": {
        "colab": {
          "base_uri": "https://localhost:8080/"
        },
        "id": "ECVBtvRLDnUI",
        "outputId": "9983e0fa-a9a8-45a1-b5ac-b51f0f8ae38e"
      },
      "execution_count": 11,
      "outputs": [
        {
          "output_type": "stream",
          "name": "stdout",
          "text": [
            "Sat Nov 19 20:47:02 2022       \n",
            "+-----------------------------------------------------------------------------+\n",
            "| NVIDIA-SMI 460.32.03    Driver Version: 460.32.03    CUDA Version: 11.2     |\n",
            "|-------------------------------+----------------------+----------------------+\n",
            "| GPU  Name        Persistence-M| Bus-Id        Disp.A | Volatile Uncorr. ECC |\n",
            "| Fan  Temp  Perf  Pwr:Usage/Cap|         Memory-Usage | GPU-Util  Compute M. |\n",
            "|                               |                      |               MIG M. |\n",
            "|===============================+======================+======================|\n",
            "|   0  Tesla T4            Off  | 00000000:00:04.0 Off |                    0 |\n",
            "| N/A   47C    P8     9W /  70W |      0MiB / 15109MiB |      0%      Default |\n",
            "|                               |                      |                  N/A |\n",
            "+-------------------------------+----------------------+----------------------+\n",
            "                                                                               \n",
            "+-----------------------------------------------------------------------------+\n",
            "| Processes:                                                                  |\n",
            "|  GPU   GI   CI        PID   Type   Process name                  GPU Memory |\n",
            "|        ID   ID                                                   Usage      |\n",
            "|=============================================================================|\n",
            "|  No running processes found                                                 |\n",
            "+-----------------------------------------------------------------------------+\n"
          ]
        }
      ]
    },
    {
      "cell_type": "code",
      "source": [
        "!python train.py --workers 1 --device 0 --batch-size 12 --single-cls --cache-images --data data.yaml --img 640 --cfg cfg/training/yolov7x.yaml --weights 'yolov7x_training.pt' --name yolov7 --hyp data/hyp.scratch.p5.yaml --epochs=40"
      ],
      "metadata": {
        "id": "ijUusRLkeYZf",
        "colab": {
          "base_uri": "https://localhost:8080/"
        },
        "outputId": "59f133df-d984-44a3-c5d3-065f40d297ee"
      },
      "execution_count": 16,
      "outputs": [
        {
          "output_type": "stream",
          "name": "stdout",
          "text": [
            "YOLOR 🚀 v0.1-115-g072f76c torch 1.12.1+cu113 CUDA:0 (Tesla T4, 15109.75MB)\n",
            "\n",
            "Namespace(adam=False, artifact_alias='latest', batch_size=12, bbox_interval=-1, bucket='', cache_images=True, cfg='cfg/training/yolov7x.yaml', data='data.yaml', device='0', entity=None, epochs=40, evolve=False, exist_ok=False, freeze=[0], global_rank=-1, hyp='data/hyp.scratch.p5.yaml', image_weights=False, img_size=[640, 640], label_smoothing=0.0, linear_lr=False, local_rank=-1, multi_scale=False, name='yolov7', noautoanchor=False, nosave=False, notest=False, project='runs/train', quad=False, rect=False, resume=False, save_dir='runs/train/yolov7', save_period=-1, single_cls=True, sync_bn=False, total_batch_size=12, upload_dataset=False, v5_metric=False, weights='yolov7x_training.pt', workers=1, world_size=1)\n",
            "\u001b[34m\u001b[1mtensorboard: \u001b[0mStart with 'tensorboard --logdir runs/train', view at http://localhost:6006/\n",
            "\u001b[34m\u001b[1mhyperparameters: \u001b[0mlr0=0.01, lrf=0.1, momentum=0.937, weight_decay=0.0005, warmup_epochs=3.0, warmup_momentum=0.8, warmup_bias_lr=0.1, box=0.05, cls=0.3, cls_pw=1.0, obj=0.7, obj_pw=1.0, iou_t=0.2, anchor_t=4.0, fl_gamma=0.0, hsv_h=0.015, hsv_s=0.7, hsv_v=0.4, degrees=0.0, translate=0.2, scale=0.35, shear=0.0, perspective=0.0, flipud=0.3, fliplr=0.3, mosaic=1.0, mixup=0.15, copy_paste=0.0, paste_in=0.15, loss_ota=1\n",
            "\u001b[34m\u001b[1mwandb: \u001b[0mInstall Weights & Biases for YOLOR logging with 'pip install wandb' (recommended)\n",
            "Overriding model.yaml nc=80 with nc=1\n",
            "\n",
            "                 from  n    params  module                                  arguments                     \n",
            "  0                -1  1      1160  models.common.Conv                      [3, 40, 3, 1]                 \n",
            "  1                -1  1     28960  models.common.Conv                      [40, 80, 3, 2]                \n",
            "  2                -1  1     57760  models.common.Conv                      [80, 80, 3, 1]                \n",
            "  3                -1  1    115520  models.common.Conv                      [80, 160, 3, 2]               \n",
            "  4                -1  1     10368  models.common.Conv                      [160, 64, 1, 1]               \n",
            "  5                -2  1     10368  models.common.Conv                      [160, 64, 1, 1]               \n",
            "  6                -1  1     36992  models.common.Conv                      [64, 64, 3, 1]                \n",
            "  7                -1  1     36992  models.common.Conv                      [64, 64, 3, 1]                \n",
            "  8                -1  1     36992  models.common.Conv                      [64, 64, 3, 1]                \n",
            "  9                -1  1     36992  models.common.Conv                      [64, 64, 3, 1]                \n",
            " 10                -1  1     36992  models.common.Conv                      [64, 64, 3, 1]                \n",
            " 11                -1  1     36992  models.common.Conv                      [64, 64, 3, 1]                \n",
            " 12[-1, -3, -5, -7, -8]  1         0  models.common.Concat                    [1]                           \n",
            " 13                -1  1    103040  models.common.Conv                      [320, 320, 1, 1]              \n",
            " 14                -1  1         0  models.common.MP                        []                            \n",
            " 15                -1  1     51520  models.common.Conv                      [320, 160, 1, 1]              \n",
            " 16                -3  1     51520  models.common.Conv                      [320, 160, 1, 1]              \n",
            " 17                -1  1    230720  models.common.Conv                      [160, 160, 3, 2]              \n",
            " 18          [-1, -3]  1         0  models.common.Concat                    [1]                           \n",
            " 19                -1  1     41216  models.common.Conv                      [320, 128, 1, 1]              \n",
            " 20                -2  1     41216  models.common.Conv                      [320, 128, 1, 1]              \n",
            " 21                -1  1    147712  models.common.Conv                      [128, 128, 3, 1]              \n",
            " 22                -1  1    147712  models.common.Conv                      [128, 128, 3, 1]              \n",
            " 23                -1  1    147712  models.common.Conv                      [128, 128, 3, 1]              \n",
            " 24                -1  1    147712  models.common.Conv                      [128, 128, 3, 1]              \n",
            " 25                -1  1    147712  models.common.Conv                      [128, 128, 3, 1]              \n",
            " 26                -1  1    147712  models.common.Conv                      [128, 128, 3, 1]              \n",
            " 27[-1, -3, -5, -7, -8]  1         0  models.common.Concat                    [1]                           \n",
            " 28                -1  1    410880  models.common.Conv                      [640, 640, 1, 1]              \n",
            " 29                -1  1         0  models.common.MP                        []                            \n",
            " 30                -1  1    205440  models.common.Conv                      [640, 320, 1, 1]              \n",
            " 31                -3  1    205440  models.common.Conv                      [640, 320, 1, 1]              \n",
            " 32                -1  1    922240  models.common.Conv                      [320, 320, 3, 2]              \n",
            " 33          [-1, -3]  1         0  models.common.Concat                    [1]                           \n",
            " 34                -1  1    164352  models.common.Conv                      [640, 256, 1, 1]              \n",
            " 35                -2  1    164352  models.common.Conv                      [640, 256, 1, 1]              \n",
            " 36                -1  1    590336  models.common.Conv                      [256, 256, 3, 1]              \n",
            " 37                -1  1    590336  models.common.Conv                      [256, 256, 3, 1]              \n",
            " 38                -1  1    590336  models.common.Conv                      [256, 256, 3, 1]              \n",
            " 39                -1  1    590336  models.common.Conv                      [256, 256, 3, 1]              \n",
            " 40                -1  1    590336  models.common.Conv                      [256, 256, 3, 1]              \n",
            " 41                -1  1    590336  models.common.Conv                      [256, 256, 3, 1]              \n",
            " 42[-1, -3, -5, -7, -8]  1         0  models.common.Concat                    [1]                           \n",
            " 43                -1  1   1640960  models.common.Conv                      [1280, 1280, 1, 1]            \n",
            " 44                -1  1         0  models.common.MP                        []                            \n",
            " 45                -1  1    820480  models.common.Conv                      [1280, 640, 1, 1]             \n",
            " 46                -3  1    820480  models.common.Conv                      [1280, 640, 1, 1]             \n",
            " 47                -1  1   3687680  models.common.Conv                      [640, 640, 3, 2]              \n",
            " 48          [-1, -3]  1         0  models.common.Concat                    [1]                           \n",
            " 49                -1  1    328192  models.common.Conv                      [1280, 256, 1, 1]             \n",
            " 50                -2  1    328192  models.common.Conv                      [1280, 256, 1, 1]             \n",
            " 51                -1  1    590336  models.common.Conv                      [256, 256, 3, 1]              \n",
            " 52                -1  1    590336  models.common.Conv                      [256, 256, 3, 1]              \n",
            " 53                -1  1    590336  models.common.Conv                      [256, 256, 3, 1]              \n",
            " 54                -1  1    590336  models.common.Conv                      [256, 256, 3, 1]              \n",
            " 55                -1  1    590336  models.common.Conv                      [256, 256, 3, 1]              \n",
            " 56                -1  1    590336  models.common.Conv                      [256, 256, 3, 1]              \n",
            " 57[-1, -3, -5, -7, -8]  1         0  models.common.Concat                    [1]                           \n",
            " 58                -1  1   1640960  models.common.Conv                      [1280, 1280, 1, 1]            \n",
            " 59                -1  1  11887360  models.common.SPPCSPC                   [1280, 640, 1]                \n",
            " 60                -1  1    205440  models.common.Conv                      [640, 320, 1, 1]              \n",
            " 61                -1  1         0  torch.nn.modules.upsampling.Upsample    [None, 2, 'nearest']          \n",
            " 62                43  1    410240  models.common.Conv                      [1280, 320, 1, 1]             \n",
            " 63          [-1, -2]  1         0  models.common.Concat                    [1]                           \n",
            " 64                -1  1    164352  models.common.Conv                      [640, 256, 1, 1]              \n",
            " 65                -2  1    164352  models.common.Conv                      [640, 256, 1, 1]              \n",
            " 66                -1  1    590336  models.common.Conv                      [256, 256, 3, 1]              \n",
            " 67                -1  1    590336  models.common.Conv                      [256, 256, 3, 1]              \n",
            " 68                -1  1    590336  models.common.Conv                      [256, 256, 3, 1]              \n",
            " 69                -1  1    590336  models.common.Conv                      [256, 256, 3, 1]              \n",
            " 70                -1  1    590336  models.common.Conv                      [256, 256, 3, 1]              \n",
            " 71                -1  1    590336  models.common.Conv                      [256, 256, 3, 1]              \n",
            " 72[-1, -3, -5, -7, -8]  1         0  models.common.Concat                    [1]                           \n",
            " 73                -1  1    410240  models.common.Conv                      [1280, 320, 1, 1]             \n",
            " 74                -1  1     51520  models.common.Conv                      [320, 160, 1, 1]              \n",
            " 75                -1  1         0  torch.nn.modules.upsampling.Upsample    [None, 2, 'nearest']          \n",
            " 76                28  1    102720  models.common.Conv                      [640, 160, 1, 1]              \n",
            " 77          [-1, -2]  1         0  models.common.Concat                    [1]                           \n",
            " 78                -1  1     41216  models.common.Conv                      [320, 128, 1, 1]              \n",
            " 79                -2  1     41216  models.common.Conv                      [320, 128, 1, 1]              \n",
            " 80                -1  1    147712  models.common.Conv                      [128, 128, 3, 1]              \n",
            " 81                -1  1    147712  models.common.Conv                      [128, 128, 3, 1]              \n",
            " 82                -1  1    147712  models.common.Conv                      [128, 128, 3, 1]              \n",
            " 83                -1  1    147712  models.common.Conv                      [128, 128, 3, 1]              \n",
            " 84                -1  1    147712  models.common.Conv                      [128, 128, 3, 1]              \n",
            " 85                -1  1    147712  models.common.Conv                      [128, 128, 3, 1]              \n",
            " 86[-1, -3, -5, -7, -8]  1         0  models.common.Concat                    [1]                           \n",
            " 87                -1  1    102720  models.common.Conv                      [640, 160, 1, 1]              \n",
            " 88                -1  1         0  models.common.MP                        []                            \n",
            " 89                -1  1     25920  models.common.Conv                      [160, 160, 1, 1]              \n",
            " 90                -3  1     25920  models.common.Conv                      [160, 160, 1, 1]              \n",
            " 91                -1  1    230720  models.common.Conv                      [160, 160, 3, 2]              \n",
            " 92      [-1, -3, 73]  1         0  models.common.Concat                    [1]                           \n",
            " 93                -1  1    164352  models.common.Conv                      [640, 256, 1, 1]              \n",
            " 94                -2  1    164352  models.common.Conv                      [640, 256, 1, 1]              \n",
            " 95                -1  1    590336  models.common.Conv                      [256, 256, 3, 1]              \n",
            " 96                -1  1    590336  models.common.Conv                      [256, 256, 3, 1]              \n",
            " 97                -1  1    590336  models.common.Conv                      [256, 256, 3, 1]              \n",
            " 98                -1  1    590336  models.common.Conv                      [256, 256, 3, 1]              \n",
            " 99                -1  1    590336  models.common.Conv                      [256, 256, 3, 1]              \n",
            "100                -1  1    590336  models.common.Conv                      [256, 256, 3, 1]              \n",
            "101[-1, -3, -5, -7, -8]  1         0  models.common.Concat                    [1]                           \n",
            "102                -1  1    410240  models.common.Conv                      [1280, 320, 1, 1]             \n",
            "103                -1  1         0  models.common.MP                        []                            \n",
            "104                -1  1    103040  models.common.Conv                      [320, 320, 1, 1]              \n",
            "105                -3  1    103040  models.common.Conv                      [320, 320, 1, 1]              \n",
            "106                -1  1    922240  models.common.Conv                      [320, 320, 3, 2]              \n",
            "107      [-1, -3, 59]  1         0  models.common.Concat                    [1]                           \n",
            "108                -1  1    656384  models.common.Conv                      [1280, 512, 1, 1]             \n",
            "109                -2  1    656384  models.common.Conv                      [1280, 512, 1, 1]             \n",
            "110                -1  1   2360320  models.common.Conv                      [512, 512, 3, 1]              \n",
            "111                -1  1   2360320  models.common.Conv                      [512, 512, 3, 1]              \n",
            "112                -1  1   2360320  models.common.Conv                      [512, 512, 3, 1]              \n",
            "113                -1  1   2360320  models.common.Conv                      [512, 512, 3, 1]              \n",
            "114                -1  1   2360320  models.common.Conv                      [512, 512, 3, 1]              \n",
            "115                -1  1   2360320  models.common.Conv                      [512, 512, 3, 1]              \n",
            "116[-1, -3, -5, -7, -8]  1         0  models.common.Concat                    [1]                           \n",
            "117                -1  1   1639680  models.common.Conv                      [2560, 640, 1, 1]             \n",
            "118                87  1    461440  models.common.Conv                      [160, 320, 3, 1]              \n",
            "119               102  1   1844480  models.common.Conv                      [320, 640, 3, 1]              \n",
            "120               117  1   7375360  models.common.Conv                      [640, 1280, 3, 1]             \n",
            "121   [118, 119, 120]  1     42668  models.yolo.IDetect                     [1, [[12, 16, 19, 36, 40, 28], [36, 75, 76, 55, 72, 146], [142, 110, 192, 243, 459, 401]], [320, 640, 1280]]\n",
            "Model Summary: 467 layers, 70815092 parameters, 70815092 gradients\n",
            "\n",
            "Transferred 633/644 items from yolov7x_training.pt\n",
            "Scaled weight_decay = 0.00046875\n",
            "Optimizer groups: 108 .bias, 108 conv.weight, 111 other\n",
            "\u001b[34m\u001b[1mtrain: \u001b[0mScanning '/content/yolov7/train/labels.cache' images and labels... 2389 found, 0 missing, 60 empty, 0 corrupted: 100% 2389/2389 [00:00<?, ?it/s]\n",
            "\u001b[34m\u001b[1mtrain: \u001b[0mCaching images (2.9GB): 100% 2389/2389 [00:08<00:00, 280.37it/s]\n",
            "\u001b[34m\u001b[1mval: \u001b[0mScanning '/content/yolov7/valid/labels.cache' images and labels... 260 found, 0 missing, 5 empty, 0 corrupted: 100% 260/260 [00:00<?, ?it/s]\n",
            "\u001b[34m\u001b[1mval: \u001b[0mCaching images (0.3GB): 100% 260/260 [00:01<00:00, 224.35it/s]\n",
            "\n",
            "\u001b[34m\u001b[1mautoanchor: \u001b[0mAnalyzing anchors... anchors/target = 3.64, Best Possible Recall (BPR) = 1.0000\n",
            "Image sizes 640 train, 640 test\n",
            "Using 1 dataloader workers\n",
            "Logging results to runs/train/yolov7\n",
            "Starting training for 40 epochs...\n",
            "\n",
            "     Epoch   gpu_mem       box       obj       cls     total    labels  img_size\n",
            "      0/39     12.1G   0.04871   0.01254         0   0.06125         1       640: 100% 200/200 [03:21<00:00,  1.01s/it]\n",
            "               Class      Images      Labels           P           R      mAP@.5  mAP@.5:.95:   0% 0/11 [00:00<?, ?it/s]/usr/local/lib/python3.7/dist-packages/torch/functional.py:478: UserWarning: torch.meshgrid: in an upcoming release, it will be required to pass the indexing argument. (Triggered internally at  ../aten/src/ATen/native/TensorShape.cpp:2894.)\n",
            "  return _VF.meshgrid(tensors, **kwargs)  # type: ignore[attr-defined]\n",
            "               Class      Images      Labels           P           R      mAP@.5  mAP@.5:.95: 100% 11/11 [00:19<00:00,  1.74s/it]\n",
            "                 all         260         314        0.26       0.589       0.236       0.068\n",
            "\n",
            "     Epoch   gpu_mem       box       obj       cls     total    labels  img_size\n",
            "      1/39     12.2G   0.04741  0.008323         0   0.05574         0       640: 100% 200/200 [02:55<00:00,  1.14it/s]\n",
            "               Class      Images      Labels           P           R      mAP@.5  mAP@.5:.95: 100% 11/11 [00:07<00:00,  1.57it/s]\n",
            "                 all         260         314     0.00507       0.475     0.00328    0.000518\n",
            "\n",
            "     Epoch   gpu_mem       box       obj       cls     total    labels  img_size\n",
            "      2/39     12.2G   0.04626  0.007287         0   0.05355         4       640: 100% 200/200 [02:53<00:00,  1.15it/s]\n",
            "               Class      Images      Labels           P           R      mAP@.5  mAP@.5:.95: 100% 11/11 [00:06<00:00,  1.58it/s]\n",
            "                 all         260         314       0.415        0.58       0.494       0.138\n",
            "\n",
            "     Epoch   gpu_mem       box       obj       cls     total    labels  img_size\n",
            "      3/39     12.2G   0.03997  0.006745         0   0.04671         4       640: 100% 200/200 [02:53<00:00,  1.16it/s]\n",
            "               Class      Images      Labels           P           R      mAP@.5  mAP@.5:.95: 100% 11/11 [00:07<00:00,  1.51it/s]\n",
            "                 all         260         314    2.56e-05     0.00637    1.59e-06    3.05e-07\n",
            "\n",
            "     Epoch   gpu_mem       box       obj       cls     total    labels  img_size\n",
            "      4/39     12.2G   0.04209  0.006519         0    0.0486         2       640: 100% 200/200 [02:52<00:00,  1.16it/s]\n",
            "               Class      Images      Labels           P           R      mAP@.5  mAP@.5:.95: 100% 11/11 [00:06<00:00,  1.60it/s]\n",
            "                 all         260           0           0           0           0           0\n",
            "\n",
            "     Epoch   gpu_mem       box       obj       cls     total    labels  img_size\n",
            "      5/39     12.2G   0.03614  0.006739         0   0.04288         1       640: 100% 200/200 [02:51<00:00,  1.17it/s]\n",
            "               Class      Images      Labels           P           R      mAP@.5  mAP@.5:.95: 100% 11/11 [00:06<00:00,  1.58it/s]\n",
            "                 all         260         314       0.327       0.503       0.272      0.0701\n",
            "\n",
            "     Epoch   gpu_mem       box       obj       cls     total    labels  img_size\n",
            "      6/39     12.2G   0.03331  0.006574         0   0.03988         2       640: 100% 200/200 [02:51<00:00,  1.17it/s]\n",
            "               Class      Images      Labels           P           R      mAP@.5  mAP@.5:.95: 100% 11/11 [00:06<00:00,  1.59it/s]\n",
            "                 all         260         314       0.766       0.802       0.828       0.332\n",
            "\n",
            "     Epoch   gpu_mem       box       obj       cls     total    labels  img_size\n",
            "      7/39     12.2G   0.03344  0.006384         0   0.03983         1       640: 100% 200/200 [02:50<00:00,  1.17it/s]\n",
            "               Class      Images      Labels           P           R      mAP@.5  mAP@.5:.95: 100% 11/11 [00:06<00:00,  1.59it/s]\n",
            "                 all         260         314       0.911       0.812       0.921       0.521\n",
            "\n",
            "     Epoch   gpu_mem       box       obj       cls     total    labels  img_size\n",
            "      8/39     12.2G   0.03527  0.006301         0   0.04158         1       640: 100% 200/200 [02:51<00:00,  1.17it/s]\n",
            "               Class      Images      Labels           P           R      mAP@.5  mAP@.5:.95: 100% 11/11 [00:06<00:00,  1.59it/s]\n",
            "                 all         260         314       0.834       0.869       0.928       0.502\n",
            "\n",
            "     Epoch   gpu_mem       box       obj       cls     total    labels  img_size\n",
            "      9/39     12.2G    0.0343  0.006254         0   0.04055         1       640: 100% 200/200 [02:51<00:00,  1.17it/s]\n",
            "               Class      Images      Labels           P           R      mAP@.5  mAP@.5:.95: 100% 11/11 [00:06<00:00,  1.58it/s]\n",
            "                 all         260         314       0.887       0.901       0.937       0.549\n",
            "\n",
            "     Epoch   gpu_mem       box       obj       cls     total    labels  img_size\n",
            "     10/39     12.2G   0.03427  0.006113         0   0.04039         2       640: 100% 200/200 [02:51<00:00,  1.17it/s]\n",
            "               Class      Images      Labels           P           R      mAP@.5  mAP@.5:.95: 100% 11/11 [00:06<00:00,  1.59it/s]\n",
            "                 all         260         314       0.882       0.911       0.952       0.588\n",
            "\n",
            "     Epoch   gpu_mem       box       obj       cls     total    labels  img_size\n",
            "     11/39     12.2G   0.03693  0.006125         0   0.04305         2       640: 100% 200/200 [02:51<00:00,  1.16it/s]\n",
            "               Class      Images      Labels           P           R      mAP@.5  mAP@.5:.95: 100% 11/11 [00:06<00:00,  1.59it/s]\n",
            "                 all         260         314        0.93       0.889       0.952       0.598\n",
            "\n",
            "     Epoch   gpu_mem       box       obj       cls     total    labels  img_size\n",
            "     12/39     12.2G   0.03121  0.006085         0   0.03729         3       640: 100% 200/200 [02:51<00:00,  1.17it/s]\n",
            "               Class      Images      Labels           P           R      mAP@.5  mAP@.5:.95: 100% 11/11 [00:06<00:00,  1.60it/s]\n",
            "                 all         260         314       0.912       0.838       0.942       0.548\n",
            "\n",
            "     Epoch   gpu_mem       box       obj       cls     total    labels  img_size\n",
            "     13/39     12.2G   0.03399  0.006249         0   0.04024         1       640: 100% 200/200 [02:51<00:00,  1.17it/s]\n",
            "               Class      Images      Labels           P           R      mAP@.5  mAP@.5:.95: 100% 11/11 [00:06<00:00,  1.60it/s]\n",
            "                 all         260         314       0.919       0.866       0.949       0.575\n",
            "\n",
            "     Epoch   gpu_mem       box       obj       cls     total    labels  img_size\n",
            "     14/39     12.2G   0.03597  0.005872         0   0.04185         2       640: 100% 200/200 [02:51<00:00,  1.17it/s]\n",
            "               Class      Images      Labels           P           R      mAP@.5  mAP@.5:.95: 100% 11/11 [00:06<00:00,  1.60it/s]\n",
            "                 all         260         314       0.921       0.898       0.959       0.629\n",
            "\n",
            "     Epoch   gpu_mem       box       obj       cls     total    labels  img_size\n",
            "     15/39     12.2G   0.03341  0.005812         0   0.03922         5       640: 100% 200/200 [02:51<00:00,  1.17it/s]\n",
            "               Class      Images      Labels           P           R      mAP@.5  mAP@.5:.95: 100% 11/11 [00:06<00:00,  1.59it/s]\n",
            "                 all         260         314       0.935       0.923       0.972       0.613\n",
            "\n",
            "     Epoch   gpu_mem       box       obj       cls     total    labels  img_size\n",
            "     16/39     12.2G   0.03456  0.005658         0   0.04021         2       640: 100% 200/200 [02:51<00:00,  1.17it/s]\n",
            "               Class      Images      Labels           P           R      mAP@.5  mAP@.5:.95: 100% 11/11 [00:06<00:00,  1.58it/s]\n",
            "                 all         260         314       0.935       0.955       0.983       0.653\n",
            "\n",
            "     Epoch   gpu_mem       box       obj       cls     total    labels  img_size\n",
            "     17/39     12.2G   0.03387  0.005666         0   0.03954         0       640: 100% 200/200 [02:51<00:00,  1.17it/s]\n",
            "               Class      Images      Labels           P           R      mAP@.5  mAP@.5:.95: 100% 11/11 [00:06<00:00,  1.59it/s]\n",
            "                 all         260         314       0.924       0.975       0.983       0.596\n",
            "\n",
            "     Epoch   gpu_mem       box       obj       cls     total    labels  img_size\n",
            "     18/39     12.2G   0.03162  0.005672         0    0.0373         1       640: 100% 200/200 [02:51<00:00,  1.17it/s]\n",
            "               Class      Images      Labels           P           R      mAP@.5  mAP@.5:.95: 100% 11/11 [00:06<00:00,  1.60it/s]\n",
            "                 all         260         314       0.943       0.955       0.985       0.672\n",
            "\n",
            "     Epoch   gpu_mem       box       obj       cls     total    labels  img_size\n",
            "     19/39     12.2G   0.03801  0.006223         0   0.04423         5       640: 100% 200/200 [02:52<00:00,  1.16it/s]\n",
            "               Class      Images      Labels           P           R      mAP@.5  mAP@.5:.95: 100% 11/11 [00:06<00:00,  1.59it/s]\n",
            "                 all         260         314       0.724       0.618       0.706       0.363\n",
            "\n",
            "     Epoch   gpu_mem       box       obj       cls     total    labels  img_size\n",
            "     20/39     12.2G   0.03236  0.006383         0   0.03874         2       640: 100% 200/200 [02:51<00:00,  1.17it/s]\n",
            "               Class      Images      Labels           P           R      mAP@.5  mAP@.5:.95: 100% 11/11 [00:06<00:00,  1.59it/s]\n",
            "                 all         260         314       0.872        0.91       0.949       0.587\n",
            "\n",
            "     Epoch   gpu_mem       box       obj       cls     total    labels  img_size\n",
            "     21/39     12.2G   0.03544  0.005891         0   0.04133         1       640: 100% 200/200 [02:51<00:00,  1.17it/s]\n",
            "               Class      Images      Labels           P           R      mAP@.5  mAP@.5:.95: 100% 11/11 [00:06<00:00,  1.60it/s]\n",
            "                 all         260         314       0.927       0.895       0.968        0.64\n",
            "\n",
            "     Epoch   gpu_mem       box       obj       cls     total    labels  img_size\n",
            "     22/39     12.2G   0.03262  0.005838         0   0.03846         1       640: 100% 200/200 [02:50<00:00,  1.17it/s]\n",
            "               Class      Images      Labels           P           R      mAP@.5  mAP@.5:.95: 100% 11/11 [00:06<00:00,  1.59it/s]\n",
            "                 all         260         314       0.911       0.949       0.967       0.601\n",
            "\n",
            "     Epoch   gpu_mem       box       obj       cls     total    labels  img_size\n",
            "     23/39     12.2G   0.03483  0.005936         0   0.04076         2       640: 100% 200/200 [02:51<00:00,  1.16it/s]\n",
            "               Class      Images      Labels           P           R      mAP@.5  mAP@.5:.95: 100% 11/11 [00:06<00:00,  1.59it/s]\n",
            "                 all         260         314       0.769       0.739       0.783       0.457\n",
            "\n",
            "     Epoch   gpu_mem       box       obj       cls     total    labels  img_size\n",
            "     24/39     12.2G   0.03372  0.005908         0   0.03963         1       640: 100% 200/200 [02:51<00:00,  1.17it/s]\n",
            "               Class      Images      Labels           P           R      mAP@.5  mAP@.5:.95: 100% 11/11 [00:06<00:00,  1.58it/s]\n",
            "                 all         260         314      0.0702       0.545      0.0613      0.0332\n",
            "\n",
            "     Epoch   gpu_mem       box       obj       cls     total    labels  img_size\n",
            "     25/39     12.2G   0.03246  0.005831         0   0.03829         2       640: 100% 200/200 [02:51<00:00,  1.17it/s]\n",
            "               Class      Images      Labels           P           R      mAP@.5  mAP@.5:.95: 100% 11/11 [00:06<00:00,  1.59it/s]\n",
            "                 all         260         314       0.952       0.879       0.955        0.61\n",
            "\n",
            "     Epoch   gpu_mem       box       obj       cls     total    labels  img_size\n",
            "     26/39     12.2G   0.03328  0.005845         0   0.03913         5       640: 100% 200/200 [02:51<00:00,  1.17it/s]\n",
            "               Class      Images      Labels           P           R      mAP@.5  mAP@.5:.95: 100% 11/11 [00:06<00:00,  1.59it/s]\n",
            "                 all         260         314       0.912       0.892       0.963       0.648\n",
            "\n",
            "     Epoch   gpu_mem       box       obj       cls     total    labels  img_size\n",
            "     27/39     12.2G   0.03123  0.005742         0   0.03697         5       640: 100% 200/200 [02:51<00:00,  1.17it/s]\n",
            "               Class      Images      Labels           P           R      mAP@.5  mAP@.5:.95: 100% 11/11 [00:06<00:00,  1.59it/s]\n",
            "                 all         260         314       0.973       0.939       0.987        0.65\n",
            "\n",
            "     Epoch   gpu_mem       box       obj       cls     total    labels  img_size\n",
            "     28/39     12.2G   0.03428  0.005743         0   0.04003         1       640: 100% 200/200 [02:51<00:00,  1.17it/s]\n",
            "               Class      Images      Labels           P           R      mAP@.5  mAP@.5:.95: 100% 11/11 [00:06<00:00,  1.59it/s]\n",
            "                 all         260         314       0.922       0.965       0.981       0.659\n",
            "\n",
            "     Epoch   gpu_mem       box       obj       cls     total    labels  img_size\n",
            "     29/39     12.2G   0.03517  0.005751         0   0.04092         1       640: 100% 200/200 [02:51<00:00,  1.16it/s]\n",
            "               Class      Images      Labels           P           R      mAP@.5  mAP@.5:.95: 100% 11/11 [00:06<00:00,  1.60it/s]\n",
            "                 all         260         314       0.944       0.971       0.988       0.702\n",
            "\n",
            "     Epoch   gpu_mem       box       obj       cls     total    labels  img_size\n",
            "     30/39     12.2G   0.03471    0.0057         0   0.04042         1       640: 100% 200/200 [02:51<00:00,  1.16it/s]\n",
            "               Class      Images      Labels           P           R      mAP@.5  mAP@.5:.95: 100% 11/11 [00:06<00:00,  1.60it/s]\n",
            "                 all         260         314        0.96        0.99       0.991       0.712\n",
            "\n",
            "     Epoch   gpu_mem       box       obj       cls     total    labels  img_size\n",
            "     31/39     12.2G   0.03183  0.005562         0   0.03739         2       640: 100% 200/200 [02:51<00:00,  1.17it/s]\n",
            "               Class      Images      Labels           P           R      mAP@.5  mAP@.5:.95: 100% 11/11 [00:06<00:00,  1.59it/s]\n",
            "                 all         260         314       0.984       0.965       0.991       0.727\n",
            "\n",
            "     Epoch   gpu_mem       box       obj       cls     total    labels  img_size\n",
            "     32/39     12.2G    0.0317   0.00567         0   0.03737         2       640: 100% 200/200 [02:52<00:00,  1.16it/s]\n",
            "               Class      Images      Labels           P           R      mAP@.5  mAP@.5:.95: 100% 11/11 [00:06<00:00,  1.59it/s]\n",
            "                 all         260         314       0.968       0.968       0.989       0.734\n",
            "\n",
            "     Epoch   gpu_mem       box       obj       cls     total    labels  img_size\n",
            "     33/39     12.2G   0.03063  0.005622         0   0.03625         2       640: 100% 200/200 [02:51<00:00,  1.17it/s]\n",
            "               Class      Images      Labels           P           R      mAP@.5  mAP@.5:.95: 100% 11/11 [00:06<00:00,  1.60it/s]\n",
            "                 all         260         314       0.968       0.958       0.987       0.722\n",
            "\n",
            "     Epoch   gpu_mem       box       obj       cls     total    labels  img_size\n",
            "     34/39     12.2G    0.0308  0.005478         0   0.03628         3       640: 100% 200/200 [02:51<00:00,  1.16it/s]\n",
            "               Class      Images      Labels           P           R      mAP@.5  mAP@.5:.95: 100% 11/11 [00:06<00:00,  1.59it/s]\n",
            "                 all         260         314       0.968       0.971       0.991       0.732\n",
            "\n",
            "     Epoch   gpu_mem       box       obj       cls     total    labels  img_size\n",
            "     35/39     12.2G   0.03027  0.005743         0   0.03601         3       640: 100% 200/200 [02:52<00:00,  1.16it/s]\n",
            "               Class      Images      Labels           P           R      mAP@.5  mAP@.5:.95: 100% 11/11 [00:06<00:00,  1.59it/s]\n",
            "                 all         260         314       0.984       0.987       0.995       0.753\n",
            "\n",
            "     Epoch   gpu_mem       box       obj       cls     total    labels  img_size\n",
            "     36/39     12.2G    0.0315  0.005565         0   0.03707         5       640: 100% 200/200 [02:52<00:00,  1.16it/s]\n",
            "               Class      Images      Labels           P           R      mAP@.5  mAP@.5:.95: 100% 11/11 [00:06<00:00,  1.59it/s]\n",
            "                 all         260         314       0.984       0.971       0.994       0.753\n",
            "\n",
            "     Epoch   gpu_mem       box       obj       cls     total    labels  img_size\n",
            "     37/39     12.2G   0.03046  0.005662         0   0.03613         2       640: 100% 200/200 [02:51<00:00,  1.16it/s]\n",
            "               Class      Images      Labels           P           R      mAP@.5  mAP@.5:.95: 100% 11/11 [00:07<00:00,  1.56it/s]\n",
            "                 all         260         314       0.981       0.975       0.992       0.745\n",
            "\n",
            "     Epoch   gpu_mem       box       obj       cls     total    labels  img_size\n",
            "     38/39     12.2G   0.03019  0.005708         0    0.0359         5       640: 100% 200/200 [02:52<00:00,  1.16it/s]\n",
            "               Class      Images      Labels           P           R      mAP@.5  mAP@.5:.95: 100% 11/11 [00:06<00:00,  1.59it/s]\n",
            "                 all         260         314       0.984       0.975       0.994       0.743\n",
            "\n",
            "     Epoch   gpu_mem       box       obj       cls     total    labels  img_size\n",
            "     39/39     12.2G   0.02979  0.005504         0    0.0353         2       640: 100% 200/200 [02:51<00:00,  1.16it/s]\n",
            "               Class      Images      Labels           P           R      mAP@.5  mAP@.5:.95: 100% 11/11 [00:07<00:00,  1.38it/s]\n",
            "                 all         260         314       0.981       0.975       0.994       0.768\n",
            "40 epochs completed in 2.039 hours.\n",
            "\n",
            "Optimizer stripped from runs/train/yolov7/weights/last.pt, 142.1MB\n",
            "Optimizer stripped from runs/train/yolov7/weights/best.pt, 142.1MB\n"
          ]
        }
      ]
    },
    {
      "cell_type": "markdown",
      "source": [
        "\n",
        "\n",
        "---\n",
        "\n"
      ],
      "metadata": {
        "id": "aLWPLEmjyrg3"
      }
    }
  ]
}